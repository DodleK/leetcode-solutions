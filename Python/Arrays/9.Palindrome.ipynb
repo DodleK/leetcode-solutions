{
 "cells": [
  {
   "cell_type": "markdown",
   "id": "d6b67496-a89f-4987-ac9d-269ae781b06d",
   "metadata": {},
   "source": [
    "Given an integer x, return true if x is a palindrome, and false otherwise.\n",
    "\n",
    " \n",
    "\n",
    "Example 1:\n",
    "\n",
    "Input: x = 121<br>\n",
    "Output: true<br>\n",
    "Explanation: 121 reads as 121 from left to right and from right to left.<br>\n",
    "\n",
    "Example 2:\n",
    "\n",
    "Input: x = -121<br>\n",
    "Output: false<br><br>\n",
    "Explanation: From left to right, it reads -121. From right to left, it becomes 121-. Therefore it is not a palindrome.\n",
    "\n",
    "Example 3:\n",
    "\n",
    "Input: x = 10<br>\n",
    "Output: false<br><br>\n",
    "Explanation: Reads 01 from right to left. Therefore it is not a palindrome.\n",
    " \n",
    "\n",
    "Constraints:<br>\n",
    "\n",
    "-231 <= x <= 231 - 1<br>\n",
    " \n",
    "\n",
    "Follow up: Could you solve it without converting the integer to a string?<br>"
   ]
  },
  {
   "cell_type": "code",
   "execution_count": 1,
   "id": "c361d5d8-86e5-45c7-bd08-05d11960d038",
   "metadata": {},
   "outputs": [],
   "source": [
    "class Solution:\n",
    "    def isPalindrome(self, x: int) -> bool:\n",
    "        if x < 0:\n",
    "            return False\n",
    "            \n",
    "        pal = x\n",
    "        rev = 0\n",
    "        while x > 0:\n",
    "            rev = rev * 10 + x % 10\n",
    "            x = x // 10\n",
    "            \n",
    "        return pal == rev"
   ]
  },
  {
   "cell_type": "code",
   "execution_count": 2,
   "id": "7541f59a-f9b8-44cf-9b21-ba0bfc54f2f2",
   "metadata": {},
   "outputs": [],
   "source": [
    "sol = Solution()"
   ]
  },
  {
   "cell_type": "code",
   "execution_count": 5,
   "id": "d81cb5f0-4e98-4b93-ac56-7021412ca890",
   "metadata": {},
   "outputs": [
    {
     "name": "stdout",
     "output_type": "stream",
     "text": [
      "--- Palindrome Number Test Cases ---\n",
      "Is 121 a palindrome? True\n",
      "Is -121 a palindrome? False\n",
      "Is 10 a palindrome? False\n",
      "Is 0 a palindrome? True\n",
      "Is 12321 a palindrome? True\n"
     ]
    }
   ],
   "source": [
    "test_cases = [121, -121, 10, 0, 12321]\n",
    "\n",
    "print(\"--- Palindrome Number Test Cases ---\")\n",
    "for num in test_cases:\n",
    "    result = sol.isPalindrome(num)\n",
    "    print(f\"Is {num} a palindrome? {result}\")"
   ]
  },
  {
   "cell_type": "code",
   "execution_count": null,
   "id": "a2912b9c-494d-4415-b5a7-3ebff45da34d",
   "metadata": {},
   "outputs": [],
   "source": []
  }
 ],
 "metadata": {
  "kernelspec": {
   "display_name": "Python 3 (ipykernel)",
   "language": "python",
   "name": "python3"
  },
  "language_info": {
   "codemirror_mode": {
    "name": "ipython",
    "version": 3
   },
   "file_extension": ".py",
   "mimetype": "text/x-python",
   "name": "python",
   "nbconvert_exporter": "python",
   "pygments_lexer": "ipython3",
   "version": "3.12.7"
  }
 },
 "nbformat": 4,
 "nbformat_minor": 5
}
